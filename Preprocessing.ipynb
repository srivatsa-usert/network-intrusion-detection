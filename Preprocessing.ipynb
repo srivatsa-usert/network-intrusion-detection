{
 "cells": [
  {
   "cell_type": "code",
   "execution_count": 1,
   "id": "153efa38",
   "metadata": {},
   "outputs": [],
   "source": [
    "import pandas as pd\n",
    "import os\n",
    "import numpy as np"
   ]
  },
  {
   "cell_type": "markdown",
   "id": "b28fb50f",
   "metadata": {},
   "source": [
    "### Preprocessing"
   ]
  },
  {
   "cell_type": "code",
   "execution_count": null,
   "id": "0af3c756",
   "metadata": {},
   "outputs": [],
   "source": [
    "# List to store DataFrames\n",
    "dfs = []\n",
    "\n",
    "# Load the datasets\n",
    "for i in os.listdir('./data/'):\n",
    "    if i.endswith('.csv'):\n",
    "        dfs.append(pd.read_csv(f'./data/{i}'))"
   ]
  },
  {
   "cell_type": "code",
   "execution_count": 9,
   "id": "808c4fac",
   "metadata": {},
   "outputs": [],
   "source": [
    "# Concatenate all DataFrames into a single DataFrame\n",
    "data = pd.concat(dfs, axis=0, ignore_index=True)\n",
    "\n",
    "# Deleting DataFrames after merging\n",
    "for df in dfs: del df"
   ]
  },
  {
   "cell_type": "code",
   "execution_count": 10,
   "id": "bc1cfd7b",
   "metadata": {},
   "outputs": [],
   "source": [
    "# Remove trailing spaces from column names\n",
    "data.columns = data.columns.str.strip()"
   ]
  },
  {
   "cell_type": "code",
   "execution_count": 11,
   "id": "0a0beca7",
   "metadata": {},
   "outputs": [],
   "source": [
    "# replace infinite values with NaN\n",
    "data.replace([float('inf'), float('-inf')], np.nan, inplace=True)"
   ]
  },
  {
   "cell_type": "code",
   "execution_count": null,
   "id": "e919a1af",
   "metadata": {},
   "outputs": [
    {
     "name": "stdout",
     "output_type": "stream",
     "text": [
      "Filled missing values in 'Flow Bytes/s' with mean: 1491719.0643420683\n",
      "Filled missing values in 'Flow Packets/s' with mean: 70854.23306262739\n"
     ]
    }
   ],
   "source": [
    "    # filling missing values with mean\n",
    "missing_values = data.isna().sum()\n",
    "for column, count in missing_values.items():\n",
    "    if count != 0:\n",
    "        data.fillna({column: data[column].mean()}, inplace=True)\n",
    "        print(f\"Filled missing values in '{column}' with mean: {data[column].mean()}\")"
   ]
  },
  {
   "cell_type": "code",
   "execution_count": 13,
   "id": "c8d47f4a",
   "metadata": {},
   "outputs": [
    {
     "name": "stdout",
     "output_type": "stream",
     "text": [
      "No.of columns after dropping highly correlated columns:  70\n"
     ]
    }
   ],
   "source": [
    "# dropping columns based on correlation\n",
    "columns_to_drop = [\n",
    "    \"Fwd PSH Flags\",\n",
    "    \"Fwd URG Flags\",\n",
    "    \"Avg Fwd Segment Size\",\n",
    "    \"Avg Bwd Segment Size\",\n",
    "    \"Fwd Header Length.1\",\n",
    "    \"Subflow Fwd Packets\",\n",
    "    \"Subflow Fwd Bytes\",\n",
    "    \"Subflow Bwd Packets\",\n",
    "    \"Subflow Bwd Bytes\",\n",
    "]\n",
    "\n",
    "data.drop(columns=columns_to_drop, inplace=True)\n",
    "\n",
    "print(\"No.of columns after dropping highly correlated columns: \", data.shape[1])"
   ]
  },
  {
   "cell_type": "code",
   "execution_count": 14,
   "id": "717b21ff",
   "metadata": {},
   "outputs": [],
   "source": [
    "#Converting The Label Column into Normal and Abnormal representated by 0 and 1 respectively.\n",
    "data['Label'] = data['Label'].map({'BENIGN': 0})\n",
    "data['Label'] = data['Label'].fillna(1)\n",
    "\n",
    "# convert Label column to int\n",
    "data['Label'] = data['Label'].astype(int)"
   ]
  },
  {
   "cell_type": "code",
   "execution_count": 15,
   "id": "66072a8a",
   "metadata": {},
   "outputs": [],
   "source": [
    "# Removal of duplicates\n",
    "data = data.drop_duplicates(keep='first')"
   ]
  },
  {
   "cell_type": "code",
   "execution_count": 16,
   "id": "c07314a9",
   "metadata": {},
   "outputs": [],
   "source": [
    "# Identify columns with identical data\n",
    "identical_columns = {}\n",
    "columns = data.columns\n",
    "list_control = columns.copy().tolist()\n",
    "\n",
    "# Compare each pair of columns\n",
    "for col1 in columns:\n",
    "    for col2 in columns:\n",
    "        if col1 != col2:\n",
    "            if data[col1].equals(data[col2]):\n",
    "                if (col1 not in identical_columns) and (col1 in list_control):\n",
    "                    identical_columns[col1] = [col2]\n",
    "                    list_control.remove(col2)\n",
    "                elif (col1 in identical_columns) and (col1 in list_control):\n",
    "                    identical_columns[col1].append(col2)\n",
    "                    list_control.remove(col2)\n",
    "                    \n",
    "for key, value in identical_columns.items():\n",
    "    data.drop(columns=value, inplace=True)"
   ]
  },
  {
   "cell_type": "code",
   "execution_count": 17,
   "id": "d4a09e2a",
   "metadata": {},
   "outputs": [],
   "source": [
    "# Dropping the columns with only one unique value\n",
    "only_unique_cols = []\n",
    "for col in data.columns:\n",
    "    if len(data[col].unique()) == 1:\n",
    "        only_unique_cols.append(col)\n",
    "\n",
    "data.drop(only_unique_cols, axis=1, inplace=True)\n",
    "del only_unique_cols"
   ]
  },
  {
   "cell_type": "code",
   "execution_count": 18,
   "id": "4c200f54",
   "metadata": {},
   "outputs": [
    {
     "name": "stdout",
     "output_type": "stream",
     "text": [
      "Final data shape:  (2522362, 62)\n",
      "class distribution:  Label\n",
      "0    2096484\n",
      "1     425878\n",
      "Name: count, dtype: int64\n"
     ]
    }
   ],
   "source": [
    "print(\"Final data shape: \", data.shape)\n",
    "print(\"class distribution: \", data['Label'].value_counts())"
   ]
  },
  {
   "cell_type": "code",
   "execution_count": 19,
   "id": "67546023",
   "metadata": {},
   "outputs": [
    {
     "name": "stdout",
     "output_type": "stream",
     "text": [
      "Cleaned data saved to './data/cleaned_data.csv'\n"
     ]
    }
   ],
   "source": [
    "# Save the cleaned data to a new CSV file\n",
    "data.to_csv('./data/cleaned_data.csv', index=False)\n",
    "print(\"Cleaned data saved to './data/cleaned_data.csv'\")"
   ]
  },
  {
   "cell_type": "markdown",
   "id": "54069f83",
   "metadata": {},
   "source": [
    "### Feature Scaling and SMOTE"
   ]
  },
  {
   "cell_type": "code",
   "execution_count": 9,
   "id": "62fa793d",
   "metadata": {},
   "outputs": [],
   "source": [
    "import pandas as pd\n",
    "\n",
    "data = pd.read_csv('./data/cleaned_data.csv')"
   ]
  },
  {
   "cell_type": "code",
   "execution_count": 11,
   "id": "51ba22e9",
   "metadata": {},
   "outputs": [],
   "source": [
    "from imblearn.over_sampling import SMOTE\n",
    "from sklearn.model_selection import train_test_split\n",
    "from sklearn.preprocessing import StandardScaler\n",
    "import joblib"
   ]
  },
  {
   "cell_type": "code",
   "execution_count": 12,
   "id": "b8c8a58a",
   "metadata": {},
   "outputs": [],
   "source": [
    "# Separate features and target\n",
    "X = data.drop('Label', axis=1)\n",
    "y = data['Label']"
   ]
  },
  {
   "cell_type": "code",
   "execution_count": 13,
   "id": "8f3c26f5",
   "metadata": {},
   "outputs": [
    {
     "data": {
      "text/plain": [
       "['./scaler.pkl']"
      ]
     },
     "execution_count": 13,
     "metadata": {},
     "output_type": "execute_result"
    }
   ],
   "source": [
    "# Scale the features\n",
    "scaler = StandardScaler()\n",
    "X_scaled = scaler.fit_transform(X)\n",
    "\n",
    "#save the scaler\n",
    "joblib.dump(scaler, './scaler.pkl')"
   ]
  },
  {
   "cell_type": "code",
   "execution_count": 15,
   "id": "876a9831",
   "metadata": {},
   "outputs": [],
   "source": [
    "# Split into train and test (SMOTE is applied only to training data)\n",
    "X_train, X_test, y_train, y_test = train_test_split(X_scaled, y, stratify=y, test_size=0.2, random_state=42)"
   ]
  },
  {
   "cell_type": "code",
   "execution_count": 17,
   "id": "c9a0b4a2",
   "metadata": {},
   "outputs": [],
   "source": [
    "# Apply SMOTE\n",
    "smote = SMOTE(random_state=42)\n",
    "X_train_resampled, y_train_resampled = smote.fit_resample(X_train, y_train)"
   ]
  },
  {
   "cell_type": "code",
   "execution_count": 20,
   "id": "f83d717a",
   "metadata": {},
   "outputs": [],
   "source": [
    "# save the resampled data and test data\n",
    "X_train_resampled = pd.DataFrame(X_train_resampled, columns=X.columns)\n",
    "y_train_resampled = pd.Series(y_train_resampled)\n",
    "X_test = pd.DataFrame(X_test, columns=X.columns)\n",
    "y_test = pd.Series(y_test)\n",
    "\n",
    "train = pd.concat([X_train_resampled, y_train_resampled], axis=1)\n",
    "test = pd.concat([X_test, y_test], axis=1)\n",
    "\n",
    "train.to_csv('./data/train.csv', index=False)\n",
    "test.to_csv('./data/test.csv', index=False)"
   ]
  },
  {
   "cell_type": "code",
   "execution_count": 8,
   "id": "2aafb89e",
   "metadata": {},
   "outputs": [
    {
     "name": "stdout",
     "output_type": "stream",
     "text": [
      "Distribution before SMOTE:\n",
      "Label\n",
      "0    2096484\n",
      "1     425878\n",
      "Name: count, dtype: int64\n",
      "Distribution after SMOTE:\n",
      "Label\n",
      "0    1677187\n",
      "1    1677187\n",
      "Name: count, dtype: int64\n"
     ]
    }
   ],
   "source": [
    "# Distribution before and after SMOTE\n",
    "print(\"Distribution before SMOTE:\")\n",
    "print(y.value_counts())\n",
    "print(\"Distribution after SMOTE:\")\n",
    "print(y_train_resampled.value_counts())"
   ]
  },
  {
   "cell_type": "code",
   "execution_count": null,
   "id": "39a55c06",
   "metadata": {},
   "outputs": [],
   "source": []
  }
 ],
 "metadata": {
  "kernelspec": {
   "display_name": "bytive",
   "language": "python",
   "name": "python3"
  },
  "language_info": {
   "codemirror_mode": {
    "name": "ipython",
    "version": 3
   },
   "file_extension": ".py",
   "mimetype": "text/x-python",
   "name": "python",
   "nbconvert_exporter": "python",
   "pygments_lexer": "ipython3",
   "version": "3.12.4"
  }
 },
 "nbformat": 4,
 "nbformat_minor": 5
}
