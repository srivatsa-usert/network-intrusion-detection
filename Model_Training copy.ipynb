{
 "cells": [
  {
   "cell_type": "code",
   "execution_count": 1,
   "id": "285af4db",
   "metadata": {},
   "outputs": [],
   "source": [
    "import pandas as pd\n",
    "import matplotlib.pyplot as plt\n",
    "\n",
    "from sklearn.linear_model import LogisticRegression\n",
    "from sklearn.tree import DecisionTreeClassifier\n",
    "from sklearn.ensemble import RandomForestClassifier\n",
    "from sklearn.svm import SVC\n",
    "from sklearn.neighbors import KNeighborsClassifier\n",
    "from xgboost import XGBClassifier\n",
    "from sklearn.naive_bayes import GaussianNB\n",
    "\n",
    "from sklearn.metrics import classification_report"
   ]
  },
  {
   "cell_type": "markdown",
   "id": "a3b5ce73",
   "metadata": {},
   "source": [
    "### Load Data"
   ]
  },
  {
   "cell_type": "code",
   "execution_count": null,
   "id": "7192c5ad",
   "metadata": {},
   "outputs": [
    {
     "name": "stdout",
     "output_type": "stream",
     "text": [
      "Label\n",
      "0    419297\n",
      "1     85176\n",
      "Name: count, dtype: int64\n"
     ]
    }
   ],
   "source": [
    "train = pd.read_csv('./data/train_unscaled.csv')\n",
    "test = pd.read_csv('./data/test_unscaled.csv')\n",
    "\n",
    "print(test['Label'].value_counts())"
   ]
  },
  {
   "cell_type": "code",
   "execution_count": 3,
   "id": "e3d7edf9",
   "metadata": {},
   "outputs": [
    {
     "name": "stdout",
     "output_type": "stream",
     "text": [
      "Label\n",
      "0    170352\n",
      "1     85176\n",
      "Name: count, dtype: int64\n"
     ]
    }
   ],
   "source": [
    "test = pd.concat([test[test['Label'] == 0].sample(170352), test[test['Label'] == 1].sample(85176)])\n",
    "print(test['Label'].value_counts())"
   ]
  },
  {
   "cell_type": "code",
   "execution_count": 4,
   "id": "b8547f70",
   "metadata": {},
   "outputs": [],
   "source": [
    "X_train = train.drop(['Label'], axis=1)\n",
    "y_train = train['Label']\n",
    "\n",
    "X_test = test.drop(['Label'], axis=1)\n",
    "y_test = test['Label']\n",
    "\n",
    "del train\n",
    "del test"
   ]
  },
  {
   "cell_type": "code",
   "execution_count": 5,
   "id": "222795da",
   "metadata": {},
   "outputs": [
    {
     "name": "stdout",
     "output_type": "stream",
     "text": [
      "Value counts in train set\n",
      "Label\n",
      "0    1677187\n",
      "1    1677187\n",
      "Name: count, dtype: int64\n",
      "Value counts in test set\n",
      "Label\n",
      "0    170352\n",
      "1     85176\n",
      "Name: count, dtype: int64\n"
     ]
    }
   ],
   "source": [
    "print(\"Value counts in train set\")\n",
    "print(y_train.value_counts())\n",
    "print(\"Value counts in test set\")\n",
    "print(y_test.value_counts())"
   ]
  },
  {
   "cell_type": "code",
   "execution_count": 6,
   "id": "0b8cb803",
   "metadata": {},
   "outputs": [],
   "source": [
    "dtypes = {\n",
    "    # Network Identification\n",
    "    'Destination Port': 'uint16',\n",
    "    'Flow Duration': 'uint32',\n",
    "    \n",
    "    # Packet Count Metrics\n",
    "    'Total Fwd Packets': 'uint32',\n",
    "    'Total Backward Packets': 'uint32',\n",
    "    'Total Length of Fwd Packets': 'uint32',\n",
    "    'Total Length of Bwd Packets': 'uint32',\n",
    "    \n",
    "    # Packet Length Statistics\n",
    "    'Fwd Packet Length Max': 'uint16',\n",
    "    'Fwd Packet Length Min': 'uint8',\n",
    "    'Fwd Packet Length Mean': 'float32',\n",
    "    'Fwd Packet Length Std': 'float32',\n",
    "    'Bwd Packet Length Max': 'uint16',\n",
    "    'Bwd Packet Length Min': 'uint8',\n",
    "    'Bwd Packet Length Mean': 'float32',\n",
    "    'Bwd Packet Length Std': 'float32',\n",
    "    \n",
    "    # Flow Characteristics\n",
    "    'Flow Bytes/s': 'float32',\n",
    "    'Flow Packets/s': 'float32',\n",
    "    \n",
    "    # Inter-Arrival Times\n",
    "    'Flow IAT Mean': 'float32',\n",
    "    'Flow IAT Std': 'float32',\n",
    "    'Flow IAT Max': 'uint32',\n",
    "    'Flow IAT Min': 'uint32',\n",
    "    'Fwd IAT Total': 'uint32',\n",
    "    'Fwd IAT Mean': 'float32',\n",
    "    'Fwd IAT Std': 'float32',\n",
    "    'Fwd IAT Max': 'uint32',\n",
    "    'Fwd IAT Min': 'uint32',\n",
    "    'Bwd IAT Total': 'uint32',\n",
    "    'Bwd IAT Mean': 'float32',\n",
    "    'Bwd IAT Std': 'float32',\n",
    "    'Bwd IAT Max': 'uint32',\n",
    "    'Bwd IAT Min': 'uint32',\n",
    "    \n",
    "    # Header Information\n",
    "    'Fwd Header Length': 'uint16',\n",
    "    'Bwd Header Length': 'uint16',\n",
    "    \n",
    "    # Rate Metrics\n",
    "    'Fwd Packets/s': 'float32',\n",
    "    'Bwd Packets/s': 'float32',\n",
    "    \n",
    "    # Packet Size Characteristics\n",
    "    'Min Packet Length': 'uint8',\n",
    "    'Max Packet Length': 'uint16',\n",
    "    'Packet Length Mean': 'float32',\n",
    "    'Packet Length Std': 'float32',\n",
    "    'Packet Length Variance': 'float32',\n",
    "    \n",
    "    # Protocol Flags\n",
    "    'FIN Flag Count': 'uint8',\n",
    "    'SYN Flag Count': 'uint8',\n",
    "    'RST Flag Count': 'uint8',\n",
    "    'PSH Flag Count': 'uint8',\n",
    "    'ACK Flag Count': 'uint8',\n",
    "    'URG Flag Count': 'uint8',\n",
    "    'CWE Flag Count': 'uint8',\n",
    "    'ECE Flag Count': 'uint8',\n",
    "    \n",
    "    # Traffic Ratios\n",
    "    'Down/Up Ratio': 'uint8',\n",
    "    \n",
    "    # Size Metrics\n",
    "    'Average Packet Size': 'float32',\n",
    "    \n",
    "    # Window Sizes\n",
    "    'Init_Win_bytes_forward': 'uint16',\n",
    "    'Init_Win_bytes_backward': 'uint16',\n",
    "    \n",
    "    # Activity Metrics\n",
    "    'act_data_pkt_fwd': 'uint16',\n",
    "    'min_seg_size_forward': 'uint8',\n",
    "    \n",
    "    # Timing Statistics\n",
    "    'Active Mean': 'float32',\n",
    "    'Active Std': 'float32',\n",
    "    'Active Max': 'uint32',\n",
    "    'Active Min': 'uint32',\n",
    "    'Idle Mean': 'float32',\n",
    "    'Idle Std': 'float32',\n",
    "    'Idle Max': 'uint32',\n",
    "    'Idle Min': 'uint32'\n",
    "}"
   ]
  },
  {
   "cell_type": "code",
   "execution_count": 7,
   "id": "1d7c2e2e",
   "metadata": {},
   "outputs": [],
   "source": [
    "# Optimize numeric columns to reduce memory usage\n",
    "def optimize_dtypes(df):\n",
    "    for col in df.select_dtypes(include='integer').columns:\n",
    "        df[col] = pd.to_numeric(df[col], downcast='unsigned')\n",
    "    for col in df.select_dtypes(include='float').columns:\n",
    "        df[col] = pd.to_numeric(df[col], downcast='float')\n",
    "    return df\n",
    "\n",
    "X_train = optimize_dtypes(X_train)"
   ]
  },
  {
   "cell_type": "markdown",
   "id": "4d358ee6",
   "metadata": {},
   "source": [
    "## Model Training"
   ]
  },
  {
   "cell_type": "markdown",
   "id": "7216462b",
   "metadata": {},
   "source": [
    "### Logistic Regression"
   ]
  },
  {
   "cell_type": "code",
   "execution_count": 8,
   "id": "4c603aa6",
   "metadata": {},
   "outputs": [
    {
     "name": "stdout",
     "output_type": "stream",
     "text": [
      "Logistic Regression\n",
      "              precision    recall  f1-score   support\n",
      "\n",
      "           0       0.86      0.86      0.86    170352\n",
      "           1       0.72      0.72      0.72     85176\n",
      "\n",
      "    accuracy                           0.81    255528\n",
      "   macro avg       0.79      0.79      0.79    255528\n",
      "weighted avg       0.81      0.81      0.81    255528\n",
      "\n"
     ]
    },
    {
     "name": "stderr",
     "output_type": "stream",
     "text": [
      "/home/pranav/anaconda3/envs/bytive/lib/python3.12/site-packages/sklearn/linear_model/_logistic.py:469: ConvergenceWarning: lbfgs failed to converge (status=1):\n",
      "STOP: TOTAL NO. of ITERATIONS REACHED LIMIT.\n",
      "\n",
      "Increase the number of iterations (max_iter) or scale the data as shown in:\n",
      "    https://scikit-learn.org/stable/modules/preprocessing.html\n",
      "Please also refer to the documentation for alternative solver options:\n",
      "    https://scikit-learn.org/stable/modules/linear_model.html#logistic-regression\n",
      "  n_iter_i = _check_optimize_result(\n"
     ]
    }
   ],
   "source": [
    "lr = LogisticRegression(max_iter=100)\n",
    "lr.fit(X_train, y_train)\n",
    "y_pred = lr.predict(X_test)\n",
    "\n",
    "print(\"Logistic Regression\")\n",
    "print(classification_report(y_test, y_pred))"
   ]
  },
  {
   "cell_type": "markdown",
   "id": "71592a9c",
   "metadata": {},
   "source": [
    "### Decision Tree"
   ]
  },
  {
   "cell_type": "code",
   "execution_count": 9,
   "id": "df7c884a",
   "metadata": {},
   "outputs": [
    {
     "name": "stdout",
     "output_type": "stream",
     "text": [
      "Decision Tree\n",
      "              precision    recall  f1-score   support\n",
      "\n",
      "           0       1.00      1.00      1.00    170352\n",
      "           1       1.00      1.00      1.00     85176\n",
      "\n",
      "    accuracy                           1.00    255528\n",
      "   macro avg       1.00      1.00      1.00    255528\n",
      "weighted avg       1.00      1.00      1.00    255528\n",
      "\n"
     ]
    }
   ],
   "source": [
    "dt = DecisionTreeClassifier()\n",
    "dt.fit(X_train, y_train)\n",
    "y_pred = dt.predict(X_test)\n",
    "\n",
    "print(\"Decision Tree\")\n",
    "print(classification_report(y_test, y_pred))"
   ]
  },
  {
   "cell_type": "markdown",
   "id": "4475aaa7",
   "metadata": {},
   "source": [
    "### Random Forest"
   ]
  },
  {
   "cell_type": "code",
   "execution_count": 10,
   "id": "585eae7d",
   "metadata": {},
   "outputs": [
    {
     "name": "stdout",
     "output_type": "stream",
     "text": [
      "Random Forest\n",
      "              precision    recall  f1-score   support\n",
      "\n",
      "           0       1.00      1.00      1.00    170352\n",
      "           1       1.00      1.00      1.00     85176\n",
      "\n",
      "    accuracy                           1.00    255528\n",
      "   macro avg       1.00      1.00      1.00    255528\n",
      "weighted avg       1.00      1.00      1.00    255528\n",
      "\n"
     ]
    }
   ],
   "source": [
    "rf = RandomForestClassifier(n_jobs=-1)\n",
    "rf.fit(X_train, y_train)\n",
    "y_pred = rf.predict(X_test)\n",
    "\n",
    "print(\"Random Forest\")\n",
    "print(classification_report(y_test, y_pred))"
   ]
  },
  {
   "cell_type": "markdown",
   "id": "fc14f65b",
   "metadata": {},
   "source": [
    "### XGBoost"
   ]
  },
  {
   "cell_type": "code",
   "execution_count": 11,
   "id": "2455196a",
   "metadata": {},
   "outputs": [
    {
     "name": "stdout",
     "output_type": "stream",
     "text": [
      "XGBoost\n",
      "              precision    recall  f1-score   support\n",
      "\n",
      "           0       1.00      1.00      1.00    170352\n",
      "           1       1.00      1.00      1.00     85176\n",
      "\n",
      "    accuracy                           1.00    255528\n",
      "   macro avg       1.00      1.00      1.00    255528\n",
      "weighted avg       1.00      1.00      1.00    255528\n",
      "\n"
     ]
    }
   ],
   "source": [
    "xgb = XGBClassifier(n_jobs=-1)\n",
    "xgb.fit(X_train, y_train)\n",
    "y_pred = xgb.predict(X_test)\n",
    "\n",
    "print(\"XGBoost\")\n",
    "print(classification_report(y_test, y_pred))"
   ]
  },
  {
   "cell_type": "markdown",
   "id": "5e30f7e5",
   "metadata": {},
   "source": [
    "### Naive Bayes"
   ]
  },
  {
   "cell_type": "code",
   "execution_count": 12,
   "id": "c3698702",
   "metadata": {},
   "outputs": [
    {
     "name": "stdout",
     "output_type": "stream",
     "text": [
      "Naive Bayes\n",
      "              precision    recall  f1-score   support\n",
      "\n",
      "           0       0.94      0.20      0.33    170352\n",
      "           1       0.38      0.97      0.54     85176\n",
      "\n",
      "    accuracy                           0.46    255528\n",
      "   macro avg       0.66      0.59      0.44    255528\n",
      "weighted avg       0.75      0.46      0.40    255528\n",
      "\n"
     ]
    }
   ],
   "source": [
    "nb = GaussianNB()\n",
    "nb.fit(X_train, y_train)\n",
    "y_pred = nb.predict(X_test)\n",
    "\n",
    "print(\"Naive Bayes\")\n",
    "print(classification_report(y_test, y_pred))"
   ]
  },
  {
   "cell_type": "markdown",
   "id": "417884d3",
   "metadata": {},
   "source": [
    "### K-Nearest Neighbors"
   ]
  },
  {
   "cell_type": "code",
   "execution_count": 13,
   "id": "661731c6",
   "metadata": {},
   "outputs": [
    {
     "name": "stdout",
     "output_type": "stream",
     "text": [
      "KNN\n",
      "              precision    recall  f1-score   support\n",
      "\n",
      "           0       1.00      0.99      0.99    170352\n",
      "           1       0.99      0.99      0.99     85176\n",
      "\n",
      "    accuracy                           0.99    255528\n",
      "   macro avg       0.99      0.99      0.99    255528\n",
      "weighted avg       0.99      0.99      0.99    255528\n",
      "\n"
     ]
    }
   ],
   "source": [
    "knn = KNeighborsClassifier(n_jobs=-1)\n",
    "knn.fit(X_train, y_train)\n",
    "y_pred = knn.predict(X_test)\n",
    "\n",
    "print(\"KNN\")\n",
    "print(classification_report(y_test, y_pred))"
   ]
  },
  {
   "cell_type": "markdown",
   "id": "aac6b9a5",
   "metadata": {},
   "source": [
    "### Support Vector Machine"
   ]
  },
  {
   "cell_type": "code",
   "execution_count": 14,
   "id": "2dcf4c59",
   "metadata": {},
   "outputs": [
    {
     "name": "stderr",
     "output_type": "stream",
     "text": [
      "/home/pranav/anaconda3/envs/bytive/lib/python3.12/site-packages/sklearn/svm/_base.py:297: ConvergenceWarning: Solver terminated early (max_iter=100).  Consider pre-processing your data with StandardScaler or MinMaxScaler.\n",
      "  warnings.warn(\n"
     ]
    },
    {
     "name": "stdout",
     "output_type": "stream",
     "text": [
      "SVM\n",
      "              precision    recall  f1-score   support\n",
      "\n",
      "           0       0.36      0.11      0.17    170352\n",
      "           1       0.25      0.60      0.35     85176\n",
      "\n",
      "    accuracy                           0.28    255528\n",
      "   macro avg       0.31      0.36      0.26    255528\n",
      "weighted avg       0.33      0.28      0.23    255528\n",
      "\n"
     ]
    }
   ],
   "source": [
    "svm = SVC(max_iter=100)\n",
    "svm.fit(X_train, y_train)\n",
    "y_pred = svm.predict(X_test)\n",
    "\n",
    "print(\"SVM\")\n",
    "print(classification_report(y_test, y_pred))"
   ]
  },
  {
   "cell_type": "code",
   "execution_count": null,
   "id": "6137d19a",
   "metadata": {},
   "outputs": [],
   "source": []
  }
 ],
 "metadata": {
  "kernelspec": {
   "display_name": "bytive",
   "language": "python",
   "name": "python3"
  },
  "language_info": {
   "codemirror_mode": {
    "name": "ipython",
    "version": 3
   },
   "file_extension": ".py",
   "mimetype": "text/x-python",
   "name": "python",
   "nbconvert_exporter": "python",
   "pygments_lexer": "ipython3",
   "version": "3.12.4"
  }
 },
 "nbformat": 4,
 "nbformat_minor": 5
}
